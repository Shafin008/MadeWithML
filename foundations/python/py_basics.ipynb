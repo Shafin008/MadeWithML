{
 "cells": [
  {
   "cell_type": "markdown",
   "id": "02971e41-0c2f-4b24-9110-fab16077c857",
   "metadata": {},
   "source": [
    "# Variables\n",
    "Variables are containers for holding data and they're defined by a name and value."
   ]
  },
  {
   "cell_type": "code",
   "execution_count": 1,
   "id": "0c1bc73e-acbc-4c05-8c4b-2f6562e21de5",
   "metadata": {},
   "outputs": [
    {
     "name": "stdout",
     "output_type": "stream",
     "text": [
      "5\n",
      "<class 'int'>\n"
     ]
    }
   ],
   "source": [
    "# Integer variable\n",
    "x = 5\n",
    "print (x)\n",
    "print (type(x))"
   ]
  },
  {
   "cell_type": "markdown",
   "id": "502bc97c-bf7e-4e42-97e4-0b3d15cb73f0",
   "metadata": {},
   "source": [
    "We can change the value of a variable by simply assigning a new value to it. There are many different types of variables: integers, floats, strings, boolean etc."
   ]
  },
  {
   "cell_type": "code",
   "execution_count": 2,
   "id": "2ba6fdbf-52e5-46fa-9f90-00ad7f4db912",
   "metadata": {},
   "outputs": [
    {
     "name": "stdout",
     "output_type": "stream",
     "text": [
      "hello\n",
      "<class 'str'>\n"
     ]
    }
   ],
   "source": [
    "# String variable\n",
    "x = \"hello\"\n",
    "print (x)\n",
    "print (type(x))"
   ]
  },
  {
   "cell_type": "code",
   "execution_count": 3,
   "id": "aa729416-5aa5-48ba-a8f6-4f639535574a",
   "metadata": {},
   "outputs": [
    {
     "name": "stdout",
     "output_type": "stream",
     "text": [
      "5.0 <class 'float'>\n"
     ]
    }
   ],
   "source": [
    "# float variable\n",
    "x = 5.0\n",
    "print (x, type(x))"
   ]
  },
  {
   "cell_type": "code",
   "execution_count": 4,
   "id": "ad218864-df26-4223-aec1-8f8ea815aa16",
   "metadata": {},
   "outputs": [
    {
     "name": "stdout",
     "output_type": "stream",
     "text": [
      "True <class 'bool'>\n"
     ]
    }
   ],
   "source": [
    "# boolean variable\n",
    "x = True\n",
    "print (x, type(x))"
   ]
  },
  {
   "cell_type": "code",
   "execution_count": 5,
   "id": "6025d66f-e502-4b5d-aa6e-63e8a556b90a",
   "metadata": {},
   "outputs": [
    {
     "name": "stdout",
     "output_type": "stream",
     "text": [
      "3\n"
     ]
    }
   ],
   "source": [
    "# Variables can be used with each other\n",
    "a = 1\n",
    "b = 2\n",
    "c = a + b\n",
    "print (c)"
   ]
  },
  {
   "cell_type": "markdown",
   "id": "7bff5a8f-edb1-4c26-ba01-a19ce81f4007",
   "metadata": {},
   "source": [
    "# Lists\n",
    "\n",
    "Lists are an ordered, mutable (changeable) collection of values that are comma separated and enclosed by square brackets. A list can be comprised of many different types of variables"
   ]
  },
  {
   "cell_type": "code",
   "execution_count": 6,
   "id": "74f1c169-48c1-4664-a821-ea0920d2eab4",
   "metadata": {},
   "outputs": [
    {
     "name": "stdout",
     "output_type": "stream",
     "text": [
      "[3, 'hello', 1.2]\n"
     ]
    }
   ],
   "source": [
    "# Creating a list\n",
    "x = [3, \"hello\", 1.2]\n",
    "print (x)"
   ]
  },
  {
   "cell_type": "code",
   "execution_count": 7,
   "id": "bd80475e-e204-4955-9a7a-135208a59d2a",
   "metadata": {},
   "outputs": [
    {
     "data": {
      "text/plain": [
       "3"
      ]
     },
     "execution_count": 7,
     "metadata": {},
     "output_type": "execute_result"
    }
   ],
   "source": [
    "# Length of a list\n",
    "len(x)"
   ]
  },
  {
   "cell_type": "markdown",
   "id": "07867777-b159-4b98-be83-5ca05c0b9335",
   "metadata": {},
   "source": [
    "We can add to a list by using the append function:"
   ]
  },
  {
   "cell_type": "code",
   "execution_count": 8,
   "id": "b96232a4-8bcc-4636-8c59-78f146d58bdc",
   "metadata": {},
   "outputs": [
    {
     "name": "stdout",
     "output_type": "stream",
     "text": [
      "[3, 'hello', 1.2, 7]\n",
      "4\n"
     ]
    }
   ],
   "source": [
    "# Adding to a list\n",
    "x.append(7)\n",
    "print (x)\n",
    "print (len(x))"
   ]
  },
  {
   "cell_type": "markdown",
   "id": "6fbc3455-60ff-4682-9c8d-e0a34c0f13b1",
   "metadata": {},
   "source": [
    "and just as easily replace existing items:"
   ]
  },
  {
   "cell_type": "code",
   "execution_count": 9,
   "id": "0d95a5c7-adb8-40e5-8f6f-5f156066e8be",
   "metadata": {},
   "outputs": [
    {
     "name": "stdout",
     "output_type": "stream",
     "text": [
      "[3, 'bye', 1.2, 7]\n"
     ]
    }
   ],
   "source": [
    "# Replacing items in a list\n",
    "x[1] = \"bye\"\n",
    "print (x)"
   ]
  },
  {
   "cell_type": "markdown",
   "id": "c2fa53c5-9f46-47c0-b9d4-2a8c6bd3a012",
   "metadata": {},
   "source": [
    "and perform operations with lists:"
   ]
  },
  {
   "cell_type": "code",
   "execution_count": 10,
   "id": "466ec8f3-1ea8-4d5d-a9c2-8c43509360ee",
   "metadata": {},
   "outputs": [
    {
     "name": "stdout",
     "output_type": "stream",
     "text": [
      "[3, 'bye', 1.2, 7, 2.4, 'world']\n"
     ]
    }
   ],
   "source": [
    "# Operations\n",
    "y = [2.4, \"world\"]\n",
    "z = x + y\n",
    "print (z)"
   ]
  },
  {
   "cell_type": "markdown",
   "id": "22f8fce8-e9aa-4e05-a819-ef86e601edde",
   "metadata": {},
   "source": [
    "# Tuples\n",
    "Tuples are collections that are ordered and immutable (unchangeable). We will use tuples to store values that will never be changed."
   ]
  },
  {
   "cell_type": "code",
   "execution_count": 11,
   "id": "32c8ae7f-0f35-42ca-b44f-1324fb457a6c",
   "metadata": {},
   "outputs": [
    {
     "name": "stdout",
     "output_type": "stream",
     "text": [
      "(3.0, 'hello')\n"
     ]
    }
   ],
   "source": [
    "# Creating a tuple\n",
    "x = (3.0, \"hello\") # tuples start and end with ()\n",
    "print (x)"
   ]
  },
  {
   "cell_type": "code",
   "execution_count": 12,
   "id": "7699f510-7df7-4316-9870-8789516ce414",
   "metadata": {},
   "outputs": [
    {
     "name": "stdout",
     "output_type": "stream",
     "text": [
      "(3.0, 'hello', 5.6, 4)\n"
     ]
    }
   ],
   "source": [
    "# Adding values to a tuple\n",
    "x = x + (5.6, 4)\n",
    "print (x)"
   ]
  },
  {
   "cell_type": "code",
   "execution_count": 13,
   "id": "02e6e7bb-5d76-4af0-b6a2-7131851144d8",
   "metadata": {},
   "outputs": [
    {
     "ename": "TypeError",
     "evalue": "'tuple' object does not support item assignment",
     "output_type": "error",
     "traceback": [
      "\u001b[0;31m---------------------------------------------------------------------------\u001b[0m",
      "\u001b[0;31mTypeError\u001b[0m                                 Traceback (most recent call last)",
      "Cell \u001b[0;32mIn[13], line 2\u001b[0m\n\u001b[1;32m      1\u001b[0m \u001b[38;5;66;03m# Try to change (it won't work and we get an error)\u001b[39;00m\n\u001b[0;32m----> 2\u001b[0m x[\u001b[38;5;241m0\u001b[39m] \u001b[38;5;241m=\u001b[39m \u001b[38;5;241m1.2\u001b[39m\n",
      "\u001b[0;31mTypeError\u001b[0m: 'tuple' object does not support item assignment"
     ]
    }
   ],
   "source": [
    "# Try to change (it won't work and we get an error)\n",
    "x[0] = 1.2"
   ]
  },
  {
   "cell_type": "markdown",
   "id": "762646f7-22ba-49e6-b112-78c8ccc5676d",
   "metadata": {},
   "source": [
    "# Sets\n",
    "Sets are collections that are unordered and mutable. However, every item in a set much be unique."
   ]
  },
  {
   "cell_type": "code",
   "execution_count": 14,
   "id": "3bec8f1a-59c2-4398-8583-7c1d092e5954",
   "metadata": {},
   "outputs": [
    {
     "name": "stdout",
     "output_type": "stream",
     "text": [
      "{' ', 'M', 'i', 'W', 'L', 'w', 'h', 'a', 't', 'e', 'r', 'n', 'd'}\n",
      "{'With', 'Made', 'Learn', 'with', 'ML'}\n"
     ]
    }
   ],
   "source": [
    "# Sets\n",
    "text = \"Learn ML with Made With ML\"\n",
    "print (set(text))\n",
    "print (set(text.split(\" \")))"
   ]
  },
  {
   "cell_type": "markdown",
   "id": "282136f2-0953-4013-9bab-5793ba891071",
   "metadata": {},
   "source": [
    "# Indexing\n",
    "Indexing and slicing from lists allow us to retrieve specific values within lists. Note that indices can be positive (starting from 0) or negative (-1 and lower, where -1 is the last item in the list)."
   ]
  },
  {
   "cell_type": "code",
   "execution_count": 15,
   "id": "19b342f9-dbdc-49be-8b5b-599abef28de8",
   "metadata": {},
   "outputs": [
    {
     "name": "stdout",
     "output_type": "stream",
     "text": [
      "x[0]:  3\n",
      "x[1]:  hello\n",
      "x[-1]:  1.2\n",
      "x[-2]:  hello\n"
     ]
    }
   ],
   "source": [
    "# Indexing\n",
    "x = [3, \"hello\", 1.2]\n",
    "print (\"x[0]: \", x[0])\n",
    "print (\"x[1]: \", x[1])\n",
    "print (\"x[-1]: \", x[-1]) # the last item\n",
    "print (\"x[-2]: \", x[-2]) # the second to last item"
   ]
  },
  {
   "cell_type": "code",
   "execution_count": 16,
   "id": "25e72204-cb00-498f-9247-a37b94c6304a",
   "metadata": {},
   "outputs": [
    {
     "name": "stdout",
     "output_type": "stream",
     "text": [
      "x[:]:  [3, 'hello', 1.2]\n",
      "x[1:]:  ['hello', 1.2]\n",
      "x[1:2]:  ['hello']\n",
      "x[:-1]:  [3, 'hello']\n"
     ]
    }
   ],
   "source": [
    "# Slicing\n",
    "print (\"x[:]: \", x[:]) # all indices\n",
    "print (\"x[1:]: \", x[1:]) # index 1 to the end of the list\n",
    "print (\"x[1:2]: \", x[1:2]) # index 1 to index 2 (not including index 2)\n",
    "print (\"x[:-1]: \", x[:-1]) # index 0 to last index (not including last index)"
   ]
  },
  {
   "cell_type": "markdown",
   "id": "04a35daf-b76b-4fcc-b4b0-a8f6b20cfe27",
   "metadata": {},
   "source": [
    "What happens if we try to index beyond the length of a list?"
   ]
  },
  {
   "cell_type": "code",
   "execution_count": 17,
   "id": "8f554eda-c6f2-4fbb-87dd-b72090a65b05",
   "metadata": {},
   "outputs": [
    {
     "name": "stdout",
     "output_type": "stream",
     "text": [
      "[3, 'hello', 1.2]\n",
      "3\n"
     ]
    }
   ],
   "source": [
    "x = [3, \"hello\", 1.2]\n",
    "print (x[:100])\n",
    "print (len(x[:100]))"
   ]
  },
  {
   "cell_type": "markdown",
   "id": "d4031a44-2418-4a61-8395-e2d91514f886",
   "metadata": {},
   "source": [
    "Though this does produce results, we should always explicitly use the length of the list to index items from it to avoid incorrect assumptions for downstream processes."
   ]
  },
  {
   "cell_type": "markdown",
   "id": "ec7cbb94-e390-4b1f-b31d-abed7b566e84",
   "metadata": {},
   "source": [
    "# Dictionaries\n",
    "Dictionaries are an unordered, mutable collection of key-value pairs. You can retrieve values based on the key and a dictionary cannot have two of the same keys."
   ]
  },
  {
   "cell_type": "code",
   "execution_count": 18,
   "id": "a4136549-c26c-432f-85dc-073c764deb2b",
   "metadata": {},
   "outputs": [
    {
     "name": "stdout",
     "output_type": "stream",
     "text": [
      "{'name': 'Goku', 'eye_color': 'brown'}\n",
      "Goku\n",
      "brown\n"
     ]
    }
   ],
   "source": [
    "# Creating a dictionary\n",
    "person = {\"name\": \"Goku\",\n",
    "          \"eye_color\": \"brown\"}\n",
    "print (person)\n",
    "print (person[\"name\"])\n",
    "print (person[\"eye_color\"])"
   ]
  },
  {
   "cell_type": "code",
   "execution_count": 19,
   "id": "b5977cbb-e1ce-44bc-b0e3-a3dda7e1eee6",
   "metadata": {},
   "outputs": [
    {
     "name": "stdout",
     "output_type": "stream",
     "text": [
      "{'name': 'Goku', 'eye_color': 'green'}\n"
     ]
    }
   ],
   "source": [
    "# Changing the value for a key\n",
    "person[\"eye_color\"] = \"green\"\n",
    "print (person)"
   ]
  },
  {
   "cell_type": "code",
   "execution_count": 20,
   "id": "d31f733a-a83b-4302-a9a9-4c08807af678",
   "metadata": {},
   "outputs": [
    {
     "name": "stdout",
     "output_type": "stream",
     "text": [
      "{'name': 'Goku', 'eye_color': 'green', 'age': 24}\n"
     ]
    }
   ],
   "source": [
    "# Adding new key-value pairs\n",
    "person[\"age\"] = 24\n",
    "print (person)"
   ]
  },
  {
   "cell_type": "code",
   "execution_count": 21,
   "id": "740e5c15-41ef-4bb0-a43e-be0c667b86ad",
   "metadata": {},
   "outputs": [
    {
     "name": "stdout",
     "output_type": "stream",
     "text": [
      "3\n"
     ]
    }
   ],
   "source": [
    "# Length of a dictionary\n",
    "print (len(person))"
   ]
  },
  {
   "cell_type": "markdown",
   "id": "7db7a826-3124-4cf4-8105-ee0c8505d8a6",
   "metadata": {},
   "source": [
    "![List-Tuple-Set-Dictionary](./ltsd.png)"
   ]
  },
  {
   "cell_type": "markdown",
   "id": "18365927-787f-4012-8dba-5ec4baf908e6",
   "metadata": {},
   "source": [
    "## OrderedDict"
   ]
  },
  {
   "cell_type": "markdown",
   "id": "6ccf382d-4358-433c-bdfa-b7c531a07e1e",
   "metadata": {},
   "source": [
    "Even though native dictionaries are unordered, we can leverage the OrderedDict data structure to change that (useful if we want to iterate through keys in a certain order,"
   ]
  },
  {
   "cell_type": "code",
   "execution_count": 22,
   "id": "ad740947-c112-4836-877d-404e7f03ef01",
   "metadata": {},
   "outputs": [],
   "source": [
    "from collections import OrderedDict"
   ]
  },
  {
   "cell_type": "code",
   "execution_count": 23,
   "id": "9a4e6a16-f9d3-418c-8e59-2bf3ac906ec2",
   "metadata": {},
   "outputs": [
    {
     "name": "stdout",
     "output_type": "stream",
     "text": [
      "{'a': 2, 'c': 3, 'b': 1}\n"
     ]
    }
   ],
   "source": [
    "# Native dict\n",
    "d = {}\n",
    "d[\"a\"] = 2\n",
    "d[\"c\"] = 3\n",
    "d[\"b\"] = 1\n",
    "print (d)"
   ]
  },
  {
   "cell_type": "markdown",
   "id": "1720bb63-3af2-45b1-87f3-9d19dd1cdfee",
   "metadata": {},
   "source": [
    "After Python 3.7+, native dictionaries are insertion ordered."
   ]
  },
  {
   "cell_type": "code",
   "execution_count": 24,
   "id": "9fe09a11-8970-48da-9181-78569e1d3ce0",
   "metadata": {},
   "outputs": [
    {
     "name": "stdout",
     "output_type": "stream",
     "text": [
      "dict_items([('a', 2), ('c', 3), ('b', 1)])\n"
     ]
    }
   ],
   "source": [
    "# Dictionary items\n",
    "print (d.items())"
   ]
  },
  {
   "cell_type": "code",
   "execution_count": 35,
   "id": "ffdc6cfa-f684-46a5-a7a0-0eed01df03be",
   "metadata": {},
   "outputs": [
    {
     "name": "stdout",
     "output_type": "stream",
     "text": [
      "OrderedDict({'a': 2, 'c': 3, 'b': 1})\n"
     ]
    }
   ],
   "source": [
    "print(OrderedDict(d.items()))"
   ]
  },
  {
   "cell_type": "code",
   "execution_count": 37,
   "id": "8d0b59f7-4eeb-4885-9840-f476e62a4ee3",
   "metadata": {},
   "outputs": [
    {
     "name": "stdout",
     "output_type": "stream",
     "text": [
      "OrderedDict({'a': 2, 'b': 1, 'c': 3})\n"
     ]
    }
   ],
   "source": [
    "# Order by keys\n",
    "print(OrderedDict(sorted(d.items())))"
   ]
  },
  {
   "cell_type": "code",
   "execution_count": 41,
   "id": "7ab7ef7c-a6bb-4e08-9d16-569d33ce8e44",
   "metadata": {},
   "outputs": [
    {
     "name": "stdout",
     "output_type": "stream",
     "text": [
      "OrderedDict({'b': 1, 'a': 2, 'c': 3})\n"
     ]
    }
   ],
   "source": [
    "# Order by values\n",
    "print(OrderedDict(sorted(d.items(), key=lambda x: x[1])))"
   ]
  },
  {
   "cell_type": "code",
   "execution_count": 44,
   "id": "9c30932d-fc01-430d-866d-0ad86e21798d",
   "metadata": {},
   "outputs": [
    {
     "data": {
      "text/plain": [
       "{'a': 2, 'b': 1, 'c': 3}"
      ]
     },
     "execution_count": 44,
     "metadata": {},
     "output_type": "execute_result"
    }
   ],
   "source": [
    "dict(sorted(d.items(), key=lambda x: x[0]))"
   ]
  },
  {
   "cell_type": "markdown",
   "id": "ec763253-1912-49b5-83f1-d5214220ec7d",
   "metadata": {},
   "source": [
    "# If statements\n",
    "We can use if statements to conditionally do something. The conditions are defined by the words if, elif (which stands for else if) and else. We can have as many elif statements as we want. The indented code below each condition is the code that will execute if the condition is True."
   ]
  },
  {
   "cell_type": "code",
   "execution_count": 45,
   "id": "dbc5ef58-9276-4afd-b343-b550500feb68",
   "metadata": {},
   "outputs": [
    {
     "name": "stdout",
     "output_type": "stream",
     "text": [
      "medium\n"
     ]
    }
   ],
   "source": [
    "# If statement\n",
    "x = 4\n",
    "if x < 1:\n",
    "    score = \"low\"\n",
    "elif x <= 4: # elif = else if\n",
    "    score = \"medium\"\n",
    "else:\n",
    "    score = \"high\"\n",
    "print (score)"
   ]
  },
  {
   "cell_type": "code",
   "execution_count": 46,
   "id": "23cb47ab-b6d8-4604-b3c1-1a80e9376637",
   "metadata": {},
   "outputs": [
    {
     "name": "stdout",
     "output_type": "stream",
     "text": [
      "it worked\n"
     ]
    }
   ],
   "source": [
    "# If statement with a boolean\n",
    "x = True\n",
    "if x:\n",
    "    print (\"it worked\")"
   ]
  },
  {
   "cell_type": "markdown",
   "id": "d435f43d-db67-42f6-92a4-365a8f718d0a",
   "metadata": {},
   "source": [
    "# Loops\n",
    "## For loops\n",
    "A for loop can iterate over a collection of values (lists, tuples, dictionaries, etc.) The indented code is executed for each item in the collection of values."
   ]
  },
  {
   "cell_type": "code",
   "execution_count": 47,
   "id": "644f73e1-d4f6-4080-9739-cdc69c479b84",
   "metadata": {},
   "outputs": [
    {
     "name": "stdout",
     "output_type": "stream",
     "text": [
      "carrots\n",
      "broccoli\n",
      "beans\n"
     ]
    }
   ],
   "source": [
    "# For loop\n",
    "veggies = [\"carrots\", \"broccoli\", \"beans\"]\n",
    "for veggie in veggies:\n",
    "    print (veggie)"
   ]
  },
  {
   "cell_type": "markdown",
   "id": "513ce25a-533c-41b1-8cce-199dabeeed42",
   "metadata": {},
   "source": [
    "When the loop encounters the break command, the loop will terminate immediately. If there were more items in the list, they will not be processed."
   ]
  },
  {
   "cell_type": "code",
   "execution_count": 48,
   "id": "3e30c4c5-06ed-4906-af3b-612a0715fe26",
   "metadata": {},
   "outputs": [
    {
     "name": "stdout",
     "output_type": "stream",
     "text": [
      "carrots\n"
     ]
    }
   ],
   "source": [
    "# `break` from a for loop\n",
    "veggies = [\"carrots\", \"broccoli\", \"beans\"]\n",
    "for veggie in veggies:\n",
    "    if veggie == \"broccoli\":\n",
    "        break\n",
    "    print (veggie)"
   ]
  },
  {
   "cell_type": "markdown",
   "id": "6bce9df5-645a-4586-8f10-e98f0b71acf6",
   "metadata": {},
   "source": [
    "When the loop encounters the continue command, the loop will skip all other operations for that item in the list only. If there were more items in the list, the loop will continue normally."
   ]
  },
  {
   "cell_type": "code",
   "execution_count": 49,
   "id": "3e513532-a5ab-417e-99c9-aeeb8dd55eae",
   "metadata": {},
   "outputs": [
    {
     "name": "stdout",
     "output_type": "stream",
     "text": [
      "carrots\n",
      "beans\n"
     ]
    }
   ],
   "source": [
    "# `continue` to the next iteration\n",
    "veggies = [\"carrots\", \"broccoli\", \"beans\"]\n",
    "for veggie in veggies:\n",
    "    if veggie == \"broccoli\":\n",
    "        continue\n",
    "    print (veggie)"
   ]
  },
  {
   "cell_type": "markdown",
   "id": "383397c4-f7c6-4250-993d-b72f28bfa7e2",
   "metadata": {},
   "source": [
    "## While loops\n",
    "A while loop can perform repeatedly as long as a condition is True. We can use continue and break commands in while loops as well."
   ]
  },
  {
   "cell_type": "code",
   "execution_count": 50,
   "id": "8212ac8d-46f6-478f-963f-297b8e16a934",
   "metadata": {},
   "outputs": [
    {
     "name": "stdout",
     "output_type": "stream",
     "text": [
      "2\n",
      "1\n",
      "0\n"
     ]
    }
   ],
   "source": [
    "# While loop\n",
    "x = 3\n",
    "while x > 0:\n",
    "    x -= 1 # same as x = x - 1\n",
    "    print (x)"
   ]
  },
  {
   "cell_type": "markdown",
   "id": "40cebff7-d89d-4566-aa9c-99de8f0fdfe1",
   "metadata": {},
   "source": [
    "# List comprehension\n",
    "We can combine our knowledge of lists and for loops to leverage list comprehensions to create succinct code."
   ]
  },
  {
   "cell_type": "code",
   "execution_count": 51,
   "id": "650fce58-83ca-47af-93f6-64d802ce3b36",
   "metadata": {},
   "outputs": [
    {
     "name": "stdout",
     "output_type": "stream",
     "text": [
      "[3, 4, 5]\n"
     ]
    }
   ],
   "source": [
    "# For loop\n",
    "x = [1, 2, 3, 4, 5]\n",
    "y = []\n",
    "for item in x:\n",
    "    if item > 2:\n",
    "        y.append(item)\n",
    "print (y)"
   ]
  },
  {
   "cell_type": "code",
   "execution_count": 54,
   "id": "bfd88101-1b9a-4d20-bc4f-d783e4e1fd11",
   "metadata": {},
   "outputs": [
    {
     "data": {
      "text/plain": [
       "[3, 4, 5]"
      ]
     },
     "execution_count": 54,
     "metadata": {},
     "output_type": "execute_result"
    }
   ],
   "source": [
    "x = [1, 2, 3, 4, 5]\n",
    "y = [i for i in x if i>2]\n",
    "y"
   ]
  },
  {
   "cell_type": "code",
   "execution_count": 55,
   "id": "d855864f-04af-4aaf-acd5-e42249290064",
   "metadata": {},
   "outputs": [
    {
     "name": "stdout",
     "output_type": "stream",
     "text": [
      "['am', 'be']\n"
     ]
    }
   ],
   "source": [
    "# Nested for loops\n",
    "words = [[\"Am\", \"ate\", \"ATOM\", \"apple\"], [\"bE\", \"boy\", \"ball\", \"bloom\"]]\n",
    "small_words = []\n",
    "for letter_list in words:\n",
    "    for word in letter_list:\n",
    "        if len(word) < 3:\n",
    "            small_words.append(word.lower())\n",
    "print (small_words)"
   ]
  },
  {
   "cell_type": "code",
   "execution_count": 57,
   "id": "0a3ce648-232e-44ac-86a0-fddd0f62ea79",
   "metadata": {},
   "outputs": [
    {
     "data": {
      "text/plain": [
       "['am', 'be']"
      ]
     },
     "execution_count": 57,
     "metadata": {},
     "output_type": "execute_result"
    }
   ],
   "source": [
    "small_words = [word.lower() for word_lst in words for word in word_lst if len(word) < 3]\n",
    "small_words"
   ]
  },
  {
   "cell_type": "markdown",
   "id": "fd02579d-e8f5-4dcd-b52c-972b23178de6",
   "metadata": {},
   "source": [
    "# Functions\n",
    "Functions are a way to modularize reusable pieces of code. They're defined by the keyword def which stands for definition and they can have the following components."
   ]
  },
  {
   "cell_type": "code",
   "execution_count": 58,
   "id": "ce49610e-7147-44e7-9873-8f06b321aae9",
   "metadata": {},
   "outputs": [],
   "source": [
    "# Define the function\n",
    "def add_two(x):\n",
    "    \"\"\"Increase x by 2.\"\"\"\n",
    "    x += 2\n",
    "    return x"
   ]
  },
  {
   "cell_type": "code",
   "execution_count": 59,
   "id": "66eb3176-24ea-4362-bf4f-ee2281eb174e",
   "metadata": {},
   "outputs": [
    {
     "name": "stdout",
     "output_type": "stream",
     "text": [
      "2\n"
     ]
    }
   ],
   "source": [
    "# Use the function\n",
    "score = 0\n",
    "new_score = add_two(x=score)\n",
    "print (new_score)"
   ]
  },
  {
   "cell_type": "markdown",
   "id": "3d9c4e75-5b00-46e7-a51d-4692f60884d9",
   "metadata": {},
   "source": [
    "A function can have as many input parameters and outputs as we want."
   ]
  },
  {
   "cell_type": "code",
   "execution_count": 60,
   "id": "9d1ea345-ae88-47ac-860e-ed35dce67741",
   "metadata": {},
   "outputs": [],
   "source": [
    "# Function with multiple inputs\n",
    "def join_name(first_name, last_name):\n",
    "    \"\"\"Combine first name and last name.\"\"\"\n",
    "    joined_name = first_name + \" \" + last_name\n",
    "    return joined_name"
   ]
  },
  {
   "cell_type": "code",
   "execution_count": 61,
   "id": "0ac099fb-9f77-4fb6-b326-4786e1144a2f",
   "metadata": {},
   "outputs": [
    {
     "name": "stdout",
     "output_type": "stream",
     "text": [
      "Shafin Mahmud\n"
     ]
    }
   ],
   "source": [
    "# Use the function\n",
    "first_name = \"Shafin\"\n",
    "last_name = \"Mahmud\"\n",
    "joined_name = join_name(\n",
    "    first_name=first_name, last_name=last_name)\n",
    "print (joined_name)"
   ]
  },
  {
   "cell_type": "markdown",
   "id": "e1ffac4c-f399-418b-9a1c-3286d2af2e3d",
   "metadata": {},
   "source": [
    "It's good practice to always use keyword argument when using a function so that it's very clear what input variable belongs to what function input parameter. \n",
    "\n",
    "On a related note, you will often see the terms *args and **kwargs which stand for arguments and keyword arguments. \n",
    "\n",
    "You can extract them when they are passed into a function. The significance of the * is that any number of arguments and keyword arguments can be passed into the function."
   ]
  },
  {
   "cell_type": "code",
   "execution_count": 63,
   "id": "9c69638b-8018-434b-8da2-58af47305115",
   "metadata": {},
   "outputs": [],
   "source": [
    "def f(*args, **kwargs):\n",
    "    x = args[0]\n",
    "    y = kwargs.get(\"y\")\n",
    "    print (f\"x: {x}, y: {y}\")"
   ]
  },
  {
   "cell_type": "code",
   "execution_count": 64,
   "id": "4324d9b6-ad36-4b80-a43d-8cc6ee4bde09",
   "metadata": {},
   "outputs": [
    {
     "name": "stdout",
     "output_type": "stream",
     "text": [
      "x: 5, y: 2\n"
     ]
    }
   ],
   "source": [
    "f(5, y=2)"
   ]
  },
  {
   "cell_type": "markdown",
   "id": "8ce1e0e5-b3d1-4862-9b50-9d0f025ad796",
   "metadata": {},
   "source": [
    "# Classes\n",
    "Classes are object constructors and are a fundamental component of object oriented programming in Python. They are composed of a set of functions that define the class and it's operations.\n",
    "\n",
    "## Magic methods\n",
    "Classes can be customized with magic methods like `__init__` and `__str__`, to enable powerful operations. These are also known as dunder methods (ex. dunder init), which stands for double underscores due to the leading and trailing underscores.\n",
    "\n",
    "The `__init__` function is used when an instance of the class is initialized."
   ]
  },
  {
   "cell_type": "code",
   "execution_count": 65,
   "id": "69ba855b-a399-4062-84d8-9080f952c972",
   "metadata": {},
   "outputs": [],
   "source": [
    "# Creating a class\n",
    "class Pet(object):\n",
    "    \"\"\"Class object for a pet.\"\"\"\n",
    "\n",
    "    def __init__(self, species, name):\n",
    "        \"\"\"Initialize a Pet\"\"\"\n",
    "        self.species = species\n",
    "        self.name = name"
   ]
  },
  {
   "cell_type": "code",
   "execution_count": 66,
   "id": "59078391-4a1f-417a-8981-36dd050964da",
   "metadata": {},
   "outputs": [
    {
     "name": "stdout",
     "output_type": "stream",
     "text": [
      "<__main__.Pet object at 0x1052878f0>\n",
      "Johnny\n"
     ]
    }
   ],
   "source": [
    "# Creating an instance of a class\n",
    "my_dog = Pet(species='dog', name='Johnny')\n",
    "print(my_dog)\n",
    "print(my_dog.name)"
   ]
  },
  {
   "cell_type": "markdown",
   "id": "503b29a4-5e4f-4ba0-89c1-42335cb0bfd0",
   "metadata": {},
   "source": [
    "The print (my_dog) command printed something not so relevant to us. Let's fix that with the `__str__` function."
   ]
  },
  {
   "cell_type": "code",
   "execution_count": 67,
   "id": "46e3552f-ab66-4e67-944c-ad7f40a8f53f",
   "metadata": {},
   "outputs": [],
   "source": [
    "# Creating a class\n",
    "class Pet(object):\n",
    "    \"\"\"Class object for a pet.\"\"\"\n",
    "\n",
    "    def __init__(self, species, name):\n",
    "        \"\"\"Initialize a Pet\"\"\"\n",
    "        self.species = species\n",
    "        self.name = name\n",
    "\n",
    "    def __str__(self):\n",
    "        return f\"{self.species} named {self.name}\""
   ]
  },
  {
   "cell_type": "code",
   "execution_count": 68,
   "id": "8930244b-6198-4bb8-b906-5bb4b02e079a",
   "metadata": {},
   "outputs": [
    {
     "name": "stdout",
     "output_type": "stream",
     "text": [
      "dog named Johnny\n",
      "Johnny\n"
     ]
    }
   ],
   "source": [
    "# Creating an instance of a class\n",
    "my_dog = Pet(species='dog', name='Johnny')\n",
    "print(my_dog)\n",
    "print(my_dog.name)"
   ]
  },
  {
   "cell_type": "markdown",
   "id": "d3da8172-ce47-4184-8d51-c032cb48f9c5",
   "metadata": {},
   "source": [
    "## Object functions\n",
    "Besides these magic functions, classes can also have object functions."
   ]
  },
  {
   "cell_type": "code",
   "execution_count": 69,
   "id": "9612b940-9973-477b-968f-495e5dd1403c",
   "metadata": {},
   "outputs": [],
   "source": [
    "# Creating a class\n",
    "class Pet(object):\n",
    "    \"\"\"Class object for a pet.\"\"\"\n",
    "\n",
    "    def __init__(self, species, name):\n",
    "        \"\"\"Initialize a Pet\"\"\"\n",
    "        self.species = species\n",
    "        self.name = name\n",
    "\n",
    "    def __str__(self):\n",
    "        return f\"{self.species} named {self.name}\"\n",
    "\n",
    "    def change_name(self, new_name):\n",
    "        \"\"\"Change the name of your pet\"\"\"\n",
    "        self.name = new_name"
   ]
  },
  {
   "cell_type": "code",
   "execution_count": 70,
   "id": "ffed9c54-30aa-4bbf-89e3-ae3bbc49f901",
   "metadata": {},
   "outputs": [
    {
     "name": "stdout",
     "output_type": "stream",
     "text": [
      "dog named Johnny\n",
      "Johnny\n"
     ]
    }
   ],
   "source": [
    "# Creating an instance of a class\n",
    "my_dog = Pet(species=\"dog\", name=\"Johnny\")\n",
    "print (my_dog)\n",
    "print (my_dog.name)"
   ]
  },
  {
   "cell_type": "code",
   "execution_count": 71,
   "id": "1e088e55-d6e5-443b-a91a-dacaf68671d8",
   "metadata": {},
   "outputs": [
    {
     "name": "stdout",
     "output_type": "stream",
     "text": [
      "dog named Scrappy\n",
      "Scrappy\n"
     ]
    }
   ],
   "source": [
    "# Creating an instance of a class\n",
    "my_dog.change_name(new_name='Scrappy')\n",
    "print (my_dog)\n",
    "print (my_dog.name)"
   ]
  },
  {
   "cell_type": "markdown",
   "id": "0893118c-9fc0-4aad-a61a-0fadf74a6c76",
   "metadata": {},
   "source": [
    "## Inheritance\n",
    "We can also build classes on top of one another using inheritance, which allows us to inherit all the properties and methods from another class (the parent)."
   ]
  },
  {
   "cell_type": "code",
   "execution_count": 76,
   "id": "ca921425-3617-498c-9f3b-348b09f90e99",
   "metadata": {},
   "outputs": [],
   "source": [
    "class Dog(Pet):\n",
    "    def __init__(self, name, breed):\n",
    "        super().__init__(species=\"dog\", name=name)\n",
    "        self.breed = breed\n",
    "\n",
    "    def __str__(self):\n",
    "        return f\"A {self.breed} doggo named {self.name}\""
   ]
  },
  {
   "cell_type": "code",
   "execution_count": 78,
   "id": "3cbb90e1-8a69-4601-981b-0deb04e291de",
   "metadata": {},
   "outputs": [
    {
     "name": "stdout",
     "output_type": "stream",
     "text": [
      "A Great Dane doggo named Scooby\n"
     ]
    }
   ],
   "source": [
    "scooby = Dog(breed=\"Great Dane\", name=\"Scooby\")\n",
    "print (scooby)"
   ]
  },
  {
   "cell_type": "code",
   "execution_count": 80,
   "id": "047bf42e-c57c-47a6-92dd-e28a4d94ca6a",
   "metadata": {},
   "outputs": [
    {
     "name": "stdout",
     "output_type": "stream",
     "text": [
      "A Great Dane doggo named Scooby Doo\n"
     ]
    }
   ],
   "source": [
    "scooby.change_name(new_name='Scooby Doo')\n",
    "print(scooby)"
   ]
  },
  {
   "cell_type": "markdown",
   "id": "a4a32c45-fb12-45e1-b3e2-443f65d13c0e",
   "metadata": {},
   "source": [
    "Notice how we inherited the initialized variables from the parent Pet class like species and name. We also inherited functions such as change_name()."
   ]
  },
  {
   "cell_type": "markdown",
   "id": "4c0fd408-3c86-4f5e-83f3-54a574442e72",
   "metadata": {},
   "source": [
    "```\n",
    "Which function is executed if the parent and child functions have functions with the same name?\n",
    "\n",
    "Ans: As you can see, both our parent class (Pet) and the child class (Dog) have different __str__ functions defined but share the same function name. The child class inherits everything from the parent classes but when there is conflict between function names, the child class' functions take precedence and overwrite the parent class' functions.\n",
    "```"
   ]
  },
  {
   "cell_type": "markdown",
   "id": "dc7fcd3e-5c36-40e0-a1da-4b79e094e8b5",
   "metadata": {},
   "source": [
    "## Methods\n",
    "There are two important decorator methods to know about when it comes to classes: `@classmethod` and `@staticmethod`. We'll learn about decorators in the next section below but these specific methods pertain to classes so we'll cover them here."
   ]
  },
  {
   "cell_type": "code",
   "execution_count": 81,
   "id": "0f08d742-0db7-456a-b8e5-39d3a5bbf59b",
   "metadata": {},
   "outputs": [],
   "source": [
    "class Dog(Pet):\n",
    "    def __init__(self, name, breed):\n",
    "        super().__init__(species=\"dog\", name=name)\n",
    "        self.breed = breed\n",
    "\n",
    "    def __str__(self):\n",
    "        return f\"A {self.breed} doggo named {self.name}\"\n",
    "\n",
    "    @classmethod\n",
    "    def from_dict(cls, d):\n",
    "        return cls(name=d['name'], breed=d['breed'])\n",
    "\n",
    "    @staticmethod\n",
    "    def is_cute(breed):\n",
    "        return True"
   ]
  },
  {
   "cell_type": "markdown",
   "id": "83e0dc4b-9968-427c-916c-f5ba84d25eff",
   "metadata": {},
   "source": [
    "A `@classmethod` allows us to create `class instances` by passing in the uninstantiated class itself (`cls`). This is a great way to create (or load) classes from objects (ie. dictionaries)."
   ]
  },
  {
   "cell_type": "code",
   "execution_count": 82,
   "id": "3f9c4cbe-29b5-4bd1-9270-f9b7779b18a1",
   "metadata": {},
   "outputs": [
    {
     "name": "stdout",
     "output_type": "stream",
     "text": [
      "A Border Collie doggo named Cassie\n"
     ]
    }
   ],
   "source": [
    "# Create instance\n",
    "d = {'name': 'Cassie', 'breed': 'Border Collie'}\n",
    "cassie = Dog.from_dict(d=d)\n",
    "print(cassie)"
   ]
  },
  {
   "cell_type": "markdown",
   "id": "013c9525-4ce0-4c34-af93-b137c260c593",
   "metadata": {},
   "source": [
    "A `@staticmethod` can be called from an uninstantiated class object so we can do things like this:"
   ]
  },
  {
   "cell_type": "code",
   "execution_count": 83,
   "id": "3dadcfbf-100b-45ea-807d-54935102d1bc",
   "metadata": {},
   "outputs": [
    {
     "data": {
      "text/plain": [
       "True"
      ]
     },
     "execution_count": 83,
     "metadata": {},
     "output_type": "execute_result"
    }
   ],
   "source": [
    "# Static method\n",
    "Dog.is_cute(breed='Border Collie')"
   ]
  },
  {
   "cell_type": "code",
   "execution_count": 84,
   "id": "b0792a16-8ec5-4c50-85e6-d46b0cfd447f",
   "metadata": {},
   "outputs": [
    {
     "data": {
      "text/plain": [
       "True"
      ]
     },
     "execution_count": 84,
     "metadata": {},
     "output_type": "execute_result"
    }
   ],
   "source": [
    "cassie.is_cute(breed='Border Collie')"
   ]
  },
  {
   "cell_type": "code",
   "execution_count": 85,
   "id": "b4115668-96a9-4785-bb80-0e811f528107",
   "metadata": {},
   "outputs": [
    {
     "name": "stdout",
     "output_type": "stream",
     "text": [
      "A Great Dane doggo named Scooby\n"
     ]
    }
   ],
   "source": [
    "scooby = Dog(breed=\"Great Dane\", name=\"Scooby\")\n",
    "print (scooby)"
   ]
  },
  {
   "cell_type": "code",
   "execution_count": 86,
   "id": "e7642420-a0b7-49e1-8b55-2efdd16c1905",
   "metadata": {},
   "outputs": [
    {
     "data": {
      "text/plain": [
       "True"
      ]
     },
     "execution_count": 86,
     "metadata": {},
     "output_type": "execute_result"
    }
   ],
   "source": [
    "scooby.is_cute(breed='Great Dane')"
   ]
  },
  {
   "cell_type": "markdown",
   "id": "ccf946af-0d3e-47c2-a469-28cad947081e",
   "metadata": {},
   "source": [
    "# Decorators\n",
    "Recall that functions allow us to modularize code and reuse them. However, we'll often want to add some functionality before or after the main function executes and we may want to do this for many different functions. Instead of adding more code to the original function, we can use decorators!\n",
    "\n",
    "- **decorators**: augment a function with pre/post-processing. Decorators wrap around the main function and allow us to operate on the inputs and or outputs.\n",
    "Suppose we have a function called operations which increments the input value x by 1."
   ]
  },
  {
   "cell_type": "code",
   "execution_count": 87,
   "id": "75c9956d-d8b7-4ca2-86d2-eb77656303cd",
   "metadata": {},
   "outputs": [],
   "source": [
    "def operations(x):\n",
    "    \"\"\"Basic Operations\"\"\"\n",
    "    x += 1\n",
    "    return x"
   ]
  },
  {
   "cell_type": "code",
   "execution_count": 88,
   "id": "d04382b1-4de3-4997-956f-164510e6934f",
   "metadata": {},
   "outputs": [
    {
     "name": "stdout",
     "output_type": "stream",
     "text": [
      "3\n"
     ]
    }
   ],
   "source": [
    "print(operations(x=2))"
   ]
  },
  {
   "cell_type": "markdown",
   "id": "6cd410b6-a73f-4515-a1d5-952febf0d162",
   "metadata": {},
   "source": [
    "Now let's say we want to increment our input x by 1 before and after the operations function executes.\n",
    "\n",
    "To illustrate this example, let's say the increments have to be separate steps. Here's how we would do it by changing the original code:"
   ]
  },
  {
   "cell_type": "code",
   "execution_count": 89,
   "id": "6f2aca68-601c-4f27-9e76-038615e3f2c2",
   "metadata": {},
   "outputs": [],
   "source": [
    "def operations(x):\n",
    "    \"\"\"Basic Operations\"\"\"\n",
    "    x += 1 # before\n",
    "    x += 1 # during\n",
    "    x += 1 # after\n",
    "    return x"
   ]
  },
  {
   "cell_type": "code",
   "execution_count": 90,
   "id": "b48c1f85-dacc-4e05-a0bb-33b393f70b24",
   "metadata": {},
   "outputs": [
    {
     "name": "stdout",
     "output_type": "stream",
     "text": [
      "4\n"
     ]
    }
   ],
   "source": [
    "print(operations(x=1))"
   ]
  },
  {
   "cell_type": "markdown",
   "id": "cf95c721-40d1-427f-b6f2-3b8490281bfa",
   "metadata": {},
   "source": [
    "We were able to achieve what we want but we now increased the size of our operations function and if we want to do the same incrementing for any other function, we have to add the same code to all of those as well which is not very efficient. \n",
    "\n",
    "To solve this, let's create a decorator called add which increments x by 1 before and after the main function f executes."
   ]
  },
  {
   "cell_type": "markdown",
   "id": "bf5a6119-dd65-4f18-b7a0-5af5fa217a92",
   "metadata": {},
   "source": [
    "## Creating a decorator\n",
    "The decorator function accepts a function `f` which is the function we wish to `wrap` around, in our case, it's `operations()`. \n",
    "\n",
    "The output of the decorator is its `wrapper` function which receives the arguments and keyword arguments passed to function `f`.\n",
    "\n",
    "Inside the wrapper function, we can:\n",
    "\n",
    "1. extract the input parameters passed to function f.\n",
    "2. make any changes we want to the function inputs.\n",
    "3. function f is executed\n",
    "4. make any changes to the function outputs\n",
    "5. wrapper function returns some value(s), which is what the decorator returns as well since it returns wrapper."
   ]
  },
  {
   "cell_type": "code",
   "execution_count": 92,
   "id": "947787cf-eaa3-41ca-91e4-52e63b819d3b",
   "metadata": {},
   "outputs": [],
   "source": [
    "# car = {\n",
    "#   \"brand\": \"Ford\",\n",
    "#   \"model\": \"Mustang\",\n",
    "#   \"year\": 1964\n",
    "# }\n",
    "\n",
    "# car.pop(\"model\")\n",
    "\n",
    "# print(car)"
   ]
  },
  {
   "cell_type": "code",
   "execution_count": 113,
   "id": "7faa225e-1d7b-47c0-bf82-750a7f729f9c",
   "metadata": {},
   "outputs": [],
   "source": [
    "# Decorator\n",
    "def add(f):\n",
    "    def wrapper(*args, **kwargs):\n",
    "        '''Wrapper function for @add'''\n",
    "        x = kwargs.pop(\"x\") # that means x = keyword value of function f\n",
    "        x += 1 # executes before function f\n",
    "        x = f(*args, **kwargs, x=x)\n",
    "        x += 1 # executes after function f\n",
    "        return x\n",
    "    return wrapper"
   ]
  },
  {
   "cell_type": "markdown",
   "id": "25399faa-868d-43ce-9ad2-eac6604c4c34",
   "metadata": {},
   "source": [
    "```\n",
    "Example to Make It Super Clear why x = kwargs.pop(\"x\")?\n",
    "\n",
    "Let’s say we call the decorated function like this:\n",
    "    my_function(x=5, y=10)\n",
    "\n",
    "At this moment:\n",
    "    kwargs = {\"x\": 5, \"y\": 10}\n",
    "\n",
    "What pop(\"x\") Does?\n",
    "    x = kwargs.pop(\"x\")\n",
    "\n",
    "- pop(\"x\") removes \"x\" from kwargs and stores its value in x.\n",
    "- Now, x = 5.\n",
    "\n",
    "kwargs is now just:\n",
    "    kwargs = {\"y\": 10}  # \"x\" is gone!\n",
    "```"
   ]
  },
  {
   "cell_type": "code",
   "execution_count": 114,
   "id": "a6a242fc-6961-4f1a-8954-19c42c9c2d03",
   "metadata": {},
   "outputs": [],
   "source": [
    "@add\n",
    "def operations(x):\n",
    "    \"\"\"Basic Operations\"\"\"\n",
    "    x += 1\n",
    "    return x"
   ]
  },
  {
   "cell_type": "code",
   "execution_count": 115,
   "id": "7effe0d1-5c45-46ba-8c64-772876123438",
   "metadata": {},
   "outputs": [
    {
     "name": "stdout",
     "output_type": "stream",
     "text": [
      "4\n"
     ]
    }
   ],
   "source": [
    "print(operations(x=1))"
   ]
  },
  {
   "cell_type": "markdown",
   "id": "1c74bf0c-7af1-4b38-af96-04c9ba2cd7e7",
   "metadata": {},
   "source": [
    "Suppose we wanted to debug and see what function actually executed with operations()."
   ]
  },
  {
   "cell_type": "code",
   "execution_count": 116,
   "id": "f5b1690d-6cb5-4a75-8f4e-50a584c20794",
   "metadata": {},
   "outputs": [
    {
     "name": "stdout",
     "output_type": "stream",
     "text": [
      "wrapper\n",
      "Wrapper function for @add\n"
     ]
    }
   ],
   "source": [
    "print(operations.__name__)\n",
    "print(operations.__doc__)"
   ]
  },
  {
   "cell_type": "markdown",
   "id": "2a0eb5ee-dac0-4da1-8b64-5fab9c380e49",
   "metadata": {},
   "source": [
    "The function name and docstring are not what we're looking for but it appears this way because the wrapper function is what was executed. \n",
    "\n",
    "In order to fix this, Python offers functools.wraps which carries the main function's metadata."
   ]
  },
  {
   "cell_type": "code",
   "execution_count": 117,
   "id": "8f708d48-1875-468d-b4b9-9e9b5e54a26c",
   "metadata": {},
   "outputs": [],
   "source": [
    "from functools import wraps"
   ]
  },
  {
   "cell_type": "code",
   "execution_count": 118,
   "id": "694ebd02-2a06-48dc-9928-656dfa2f13a9",
   "metadata": {},
   "outputs": [],
   "source": [
    "# Decorator\n",
    "def add(f):\n",
    "    @wraps(f)\n",
    "    def wrap(*args, **kwargs):\n",
    "        '''Wrapper function for @add'''\n",
    "        x = kwargs.pop(\"x\")\n",
    "        x += 1\n",
    "        x = f(**args, **kwargs, x=x)\n",
    "        x += 1\n",
    "        return x\n",
    "    return wrap"
   ]
  },
  {
   "cell_type": "code",
   "execution_count": 119,
   "id": "2b8aea75-06a5-45dc-a087-8bd86989262d",
   "metadata": {},
   "outputs": [],
   "source": [
    "@add\n",
    "def operations(x):\n",
    "    \"\"\"Basic operations.\"\"\"\n",
    "    x += 1\n",
    "    return x"
   ]
  },
  {
   "cell_type": "code",
   "execution_count": 120,
   "id": "42a645ca-bdba-48e0-b4dd-c5607dbd8ed7",
   "metadata": {},
   "outputs": [
    {
     "name": "stdout",
     "output_type": "stream",
     "text": [
      "operations\n",
      "Basic operations.\n"
     ]
    }
   ],
   "source": [
    "print(operations.__name__)\n",
    "print(operations.__doc__)"
   ]
  },
  {
   "cell_type": "markdown",
   "id": "c4def858-b3da-49df-9e02-f88ffa06c22e",
   "metadata": {},
   "source": [
    "# Callbacks\n",
    "Decorators allow for customized operations before and after the main function's execution but what about in between? \n",
    "\n",
    "Suppose we want to conditionally/situationally do some operations. Instead of writing a whole bunch of if-statements and make our functions bulky, we can use callbacks!\n",
    "\n",
    "- **callbacks**: conditional/situational processing within the function.\n",
    "Our callbacks will be classes that have functions with key names that will execute at various periods during the main function's execution. The function names are up to us but we need to invoke the same callback functions within our main function."
   ]
  },
  {
   "cell_type": "code",
   "execution_count": 133,
   "id": "67946534-8593-46f3-9bdf-8b9e0799e921",
   "metadata": {},
   "outputs": [],
   "source": [
    "# Callback\n",
    "class x_tracker(object):\n",
    "    def __init__(self, x):\n",
    "        self.history = []\n",
    "\n",
    "    def at_start(self, x):\n",
    "        self.history.append(x)\n",
    "\n",
    "    def at_end(self, x):\n",
    "        self.history.append(x)"
   ]
  },
  {
   "cell_type": "markdown",
   "id": "628589ec-e547-4b71-9191-d95c864553cd",
   "metadata": {},
   "source": [
    "We can pass in as many callbacks as we want and because they have appropriately named functions, they will be invoked at the appropriate times."
   ]
  },
  {
   "cell_type": "code",
   "execution_count": 134,
   "id": "c5d8f8f3-637d-4836-b16e-467b1f8ae3f6",
   "metadata": {},
   "outputs": [],
   "source": [
    "def operations(x, callbacks=[]):\n",
    "    \"\"\"Basic Operations\"\"\"\n",
    "    \n",
    "    for callback in callbacks:\n",
    "        callback.at_start(x)\n",
    "    \n",
    "    x += 1\n",
    "\n",
    "    for callback in callbacks:\n",
    "        callback.at_end(x)\n",
    "\n",
    "    return x"
   ]
  },
  {
   "cell_type": "code",
   "execution_count": 135,
   "id": "0c3f1735-0e6f-4787-a78b-08f8d35754d8",
   "metadata": {},
   "outputs": [],
   "source": [
    "x = 1\n",
    "tracker = x_tracker(x=x)\n",
    "# tracker"
   ]
  },
  {
   "cell_type": "code",
   "execution_count": 136,
   "id": "74af7b6f-6255-4be8-84c9-c6d1952474c4",
   "metadata": {},
   "outputs": [
    {
     "data": {
      "text/plain": [
       "2"
      ]
     },
     "execution_count": 136,
     "metadata": {},
     "output_type": "execute_result"
    }
   ],
   "source": [
    "operations(x=x, callbacks=[tracker])"
   ]
  },
  {
   "cell_type": "markdown",
   "id": "52102b1e-f2de-40f4-a2a8-ed885004f3f2",
   "metadata": {},
   "source": [
    "## Putting it all together\n",
    "decorators + callbacks = powerful customization before, during and after the main function’s execution without increasing its complexity."
   ]
  },
  {
   "cell_type": "code",
   "execution_count": 137,
   "id": "b0319a37-e28f-42a7-891f-8c3c976381d7",
   "metadata": {},
   "outputs": [],
   "source": [
    "from functools import wraps"
   ]
  },
  {
   "cell_type": "code",
   "execution_count": 138,
   "id": "35128741-dca3-470f-a5ab-3eb42bfeebf8",
   "metadata": {},
   "outputs": [],
   "source": [
    "# Decorator\n",
    "def add(f):\n",
    "    @wraps(f)\n",
    "    def wrap(*args, **kwargs):\n",
    "        \"\"\"Wrapper function for @add.\"\"\"\n",
    "        x = kwargs.pop(\"x\") # .get() if not altering x\n",
    "        x += 1 # executes before function f\n",
    "        x = f(*args, **kwargs, x=x) \n",
    "        # can do things post function f as well\n",
    "        return x\n",
    "    return wrap"
   ]
  },
  {
   "cell_type": "code",
   "execution_count": 139,
   "id": "b887d4a3-054b-465f-92d5-929436f90b1a",
   "metadata": {},
   "outputs": [],
   "source": [
    "# Callback\n",
    "class x_tracker(object):\n",
    "    def __init__(self, x):\n",
    "        self.history = [x]\n",
    "    def at_start(self, x):\n",
    "        self.history.append(x)\n",
    "    def at_end(self, x):\n",
    "        self.history.append(x)"
   ]
  },
  {
   "cell_type": "code",
   "execution_count": 140,
   "id": "46c7cc7b-16f4-4483-b723-a0c2a44219c1",
   "metadata": {},
   "outputs": [],
   "source": [
    "# Main function\n",
    "@add\n",
    "def operations(x, callbacks=[]):\n",
    "    \"\"\"Basic operations.\"\"\"\n",
    "    for callback in callbacks:\n",
    "        callback.at_start(x)\n",
    "    x += 1\n",
    "    for callback in callbacks:\n",
    "        callback.at_end(x)\n",
    "    return x"
   ]
  },
  {
   "cell_type": "code",
   "execution_count": 141,
   "id": "c8c6e1f8-9913-47b9-811c-d9d31b9116bc",
   "metadata": {},
   "outputs": [
    {
     "data": {
      "text/plain": [
       "3"
      ]
     },
     "execution_count": 141,
     "metadata": {},
     "output_type": "execute_result"
    }
   ],
   "source": [
    "x = 1\n",
    "tracker = x_tracker(x=x)\n",
    "operations(x=x, callbacks=[tracker])"
   ]
  },
  {
   "cell_type": "code",
   "execution_count": 142,
   "id": "439fe199-826f-4184-96c5-3089c45579bc",
   "metadata": {},
   "outputs": [
    {
     "data": {
      "text/plain": [
       "[1, 2, 3]"
      ]
     },
     "execution_count": 142,
     "metadata": {},
     "output_type": "execute_result"
    }
   ],
   "source": [
    "tracker.history"
   ]
  },
  {
   "cell_type": "code",
   "execution_count": null,
   "id": "10cbd551-28c9-41d0-b132-9649104a26c9",
   "metadata": {},
   "outputs": [],
   "source": []
  }
 ],
 "metadata": {
  "kernelspec": {
   "display_name": "Python 3 (ipykernel)",
   "language": "python",
   "name": "python3"
  },
  "language_info": {
   "codemirror_mode": {
    "name": "ipython",
    "version": 3
   },
   "file_extension": ".py",
   "mimetype": "text/x-python",
   "name": "python",
   "nbconvert_exporter": "python",
   "pygments_lexer": "ipython3",
   "version": "3.12.9"
  }
 },
 "nbformat": 4,
 "nbformat_minor": 5
}
